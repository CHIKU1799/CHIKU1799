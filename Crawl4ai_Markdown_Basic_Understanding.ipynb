{
  "cells": [
    {
      "cell_type": "markdown",
      "metadata": {
        "id": "view-in-github",
        "colab_type": "text"
      },
      "source": [
        "<a href=\"https://colab.research.google.com/github/CHIKU1799/CHIKU1799/blob/main/Crawl4ai_Markdown_Basic_Understanding.ipynb\" target=\"_parent\"><img src=\"https://colab.research.google.com/assets/colab-badge.svg\" alt=\"Open In Colab\"/></a>"
      ]
    },
    {
      "cell_type": "code",
      "execution_count": null,
      "metadata": {
        "id": "PFMzCPrds7rG"
      },
      "outputs": [],
      "source": [
        "%%capture\n",
        "!pip install \"crawl4ai @ git+https://github.com/unclecode/crawl4ai.git\""
      ]
    },
    {
      "cell_type": "code",
      "metadata": {
        "colab": {
          "base_uri": "https://localhost:8080/"
        },
        "id": "f1e8d904",
        "outputId": "89966440-5363-4a9f-a05d-a8df17cd8abb"
      },
      "source": [
        "!playwright install"
      ],
      "execution_count": null,
      "outputs": [
        {
          "output_type": "stream",
          "name": "stdout",
          "text": [
            "Downloading Chromium 139.0.7258.5 (playwright build v1181)\u001b[2m from https://cdn.playwright.dev/dbazure/download/playwright/builds/chromium/1181/chromium-linux.zip\u001b[22m\n",
            "\u001b[1G172.5 MiB [] 0% 0.0s\u001b[0K\u001b[1G172.5 MiB [] 0% 22.6s\u001b[0K\u001b[1G172.5 MiB [] 0% 8.9s\u001b[0K\u001b[1G172.5 MiB [] 1% 4.0s\u001b[0K\u001b[1G172.5 MiB [] 2% 2.9s\u001b[0K\u001b[1G172.5 MiB [] 3% 2.3s\u001b[0K\u001b[1G172.5 MiB [] 4% 2.1s\u001b[0K\u001b[1G172.5 MiB [] 5% 2.1s\u001b[0K\u001b[1G172.5 MiB [] 6% 2.0s\u001b[0K\u001b[1G172.5 MiB [] 7% 1.9s\u001b[0K\u001b[1G172.5 MiB [] 8% 1.8s\u001b[0K\u001b[1G172.5 MiB [] 9% 1.8s\u001b[0K\u001b[1G172.5 MiB [] 10% 1.7s\u001b[0K\u001b[1G172.5 MiB [] 11% 1.6s\u001b[0K\u001b[1G172.5 MiB [] 12% 1.6s\u001b[0K\u001b[1G172.5 MiB [] 14% 1.5s\u001b[0K\u001b[1G172.5 MiB [] 15% 1.4s\u001b[0K\u001b[1G172.5 MiB [] 17% 1.4s\u001b[0K\u001b[1G172.5 MiB [] 18% 1.3s\u001b[0K\u001b[1G172.5 MiB [] 20% 1.2s\u001b[0K\u001b[1G172.5 MiB [] 21% 1.2s\u001b[0K\u001b[1G172.5 MiB [] 22% 1.2s\u001b[0K\u001b[1G172.5 MiB [] 24% 1.1s\u001b[0K\u001b[1G172.5 MiB [] 26% 1.1s\u001b[0K\u001b[1G172.5 MiB [] 28% 1.1s\u001b[0K\u001b[1G172.5 MiB [] 30% 1.0s\u001b[0K\u001b[1G172.5 MiB [] 31% 1.0s\u001b[0K\u001b[1G172.5 MiB [] 33% 0.9s\u001b[0K\u001b[1G172.5 MiB [] 35% 0.9s\u001b[0K\u001b[1G172.5 MiB [] 37% 0.8s\u001b[0K\u001b[1G172.5 MiB [] 39% 0.8s\u001b[0K\u001b[1G172.5 MiB [] 40% 0.8s\u001b[0K\u001b[1G172.5 MiB [] 42% 0.7s\u001b[0K\u001b[1G172.5 MiB [] 44% 0.7s\u001b[0K\u001b[1G172.5 MiB [] 46% 0.7s\u001b[0K\u001b[1G172.5 MiB [] 47% 0.7s\u001b[0K\u001b[1G172.5 MiB [] 49% 0.6s\u001b[0K\u001b[1G172.5 MiB [] 51% 0.6s\u001b[0K\u001b[1G172.5 MiB [] 52% 0.6s\u001b[0K\u001b[1G172.5 MiB [] 53% 0.6s\u001b[0K\u001b[1G172.5 MiB [] 55% 0.5s\u001b[0K\u001b[1G172.5 MiB [] 56% 0.5s\u001b[0K\u001b[1G172.5 MiB [] 58% 0.5s\u001b[0K\u001b[1G172.5 MiB [] 59% 0.5s\u001b[0K\u001b[1G172.5 MiB [] 61% 0.5s\u001b[0K\u001b[1G172.5 MiB [] 63% 0.4s\u001b[0K\u001b[1G172.5 MiB [] 64% 0.4s\u001b[0K\u001b[1G172.5 MiB [] 66% 0.4s\u001b[0K\u001b[1G172.5 MiB [] 68% 0.4s\u001b[0K\u001b[1G172.5 MiB [] 69% 0.4s\u001b[0K\u001b[1G172.5 MiB [] 71% 0.3s\u001b[0K\u001b[1G172.5 MiB [] 73% 0.3s\u001b[0K\u001b[1G172.5 MiB [] 74% 0.3s\u001b[0K\u001b[1G172.5 MiB [] 75% 0.3s\u001b[0K\u001b[1G172.5 MiB [] 76% 0.3s\u001b[0K\u001b[1G172.5 MiB [] 77% 0.3s\u001b[0K\u001b[1G172.5 MiB [] 78% 0.3s\u001b[0K\u001b[1G172.5 MiB [] 80% 0.2s\u001b[0K\u001b[1G172.5 MiB [] 82% 0.2s\u001b[0K\u001b[1G172.5 MiB [] 83% 0.2s\u001b[0K\u001b[1G172.5 MiB [] 85% 0.2s\u001b[0K\u001b[1G172.5 MiB [] 87% 0.2s\u001b[0K\u001b[1G172.5 MiB [] 88% 0.1s\u001b[0K\u001b[1G172.5 MiB [] 90% 0.1s\u001b[0K\u001b[1G172.5 MiB [] 92% 0.1s\u001b[0K\u001b[1G172.5 MiB [] 94% 0.1s\u001b[0K\u001b[1G172.5 MiB [] 95% 0.0s\u001b[0K\u001b[1G172.5 MiB [] 97% 0.0s\u001b[0K\u001b[1G172.5 MiB [] 99% 0.0s\u001b[0K\u001b[1G172.5 MiB [] 100% 0.0s\u001b[0K\n",
            "Chromium 139.0.7258.5 (playwright build v1181) downloaded to /root/.cache/ms-playwright/chromium-1181\n",
            "Downloading Chromium Headless Shell 139.0.7258.5 (playwright build v1181)\u001b[2m from https://cdn.playwright.dev/dbazure/download/playwright/builds/chromium/1181/chromium-headless-shell-linux.zip\u001b[22m\n",
            "\u001b[1G104.8 MiB [] 0% 0.0s\u001b[0K\u001b[1G104.8 MiB [] 0% 16.9s\u001b[0K\u001b[1G104.8 MiB [] 0% 7.1s\u001b[0K\u001b[1G104.8 MiB [] 1% 2.9s\u001b[0K\u001b[1G104.8 MiB [] 3% 2.1s\u001b[0K\u001b[1G104.8 MiB [] 4% 1.7s\u001b[0K\u001b[1G104.8 MiB [] 6% 1.4s\u001b[0K\u001b[1G104.8 MiB [] 7% 1.3s\u001b[0K\u001b[1G104.8 MiB [] 8% 1.4s\u001b[0K\u001b[1G104.8 MiB [] 10% 1.3s\u001b[0K\u001b[1G104.8 MiB [] 11% 1.3s\u001b[0K\u001b[1G104.8 MiB [] 13% 1.1s\u001b[0K\u001b[1G104.8 MiB [] 15% 1.1s\u001b[0K\u001b[1G104.8 MiB [] 16% 1.1s\u001b[0K\u001b[1G104.8 MiB [] 18% 1.0s\u001b[0K\u001b[1G104.8 MiB [] 21% 0.9s\u001b[0K\u001b[1G104.8 MiB [] 22% 0.9s\u001b[0K\u001b[1G104.8 MiB [] 25% 0.9s\u001b[0K\u001b[1G104.8 MiB [] 27% 0.8s\u001b[0K\u001b[1G104.8 MiB [] 30% 0.8s\u001b[0K\u001b[1G104.8 MiB [] 32% 0.7s\u001b[0K\u001b[1G104.8 MiB [] 34% 0.7s\u001b[0K\u001b[1G104.8 MiB [] 37% 0.6s\u001b[0K\u001b[1G104.8 MiB [] 39% 0.6s\u001b[0K\u001b[1G104.8 MiB [] 42% 0.6s\u001b[0K\u001b[1G104.8 MiB [] 43% 0.6s\u001b[0K\u001b[1G104.8 MiB [] 45% 0.5s\u001b[0K\u001b[1G104.8 MiB [] 47% 0.5s\u001b[0K\u001b[1G104.8 MiB [] 50% 0.5s\u001b[0K\u001b[1G104.8 MiB [] 52% 0.4s\u001b[0K\u001b[1G104.8 MiB [] 55% 0.4s\u001b[0K\u001b[1G104.8 MiB [] 57% 0.4s\u001b[0K\u001b[1G104.8 MiB [] 60% 0.4s\u001b[0K\u001b[1G104.8 MiB [] 62% 0.3s\u001b[0K\u001b[1G104.8 MiB [] 64% 0.3s\u001b[0K\u001b[1G104.8 MiB [] 65% 0.3s\u001b[0K\u001b[1G104.8 MiB [] 67% 0.3s\u001b[0K\u001b[1G104.8 MiB [] 70% 0.3s\u001b[0K\u001b[1G104.8 MiB [] 72% 0.2s\u001b[0K\u001b[1G104.8 MiB [] 75% 0.2s\u001b[0K\u001b[1G104.8 MiB [] 75% 0.3s\u001b[0K\u001b[1G104.8 MiB [] 76% 0.3s\u001b[0K\u001b[1G104.8 MiB [] 77% 0.3s\u001b[0K\u001b[1G104.8 MiB [] 80% 0.2s\u001b[0K\u001b[1G104.8 MiB [] 83% 0.2s\u001b[0K\u001b[1G104.8 MiB [] 86% 0.2s\u001b[0K\u001b[1G104.8 MiB [] 88% 0.1s\u001b[0K\u001b[1G104.8 MiB [] 91% 0.1s\u001b[0K\u001b[1G104.8 MiB [] 93% 0.1s\u001b[0K\u001b[1G104.8 MiB [] 96% 0.0s\u001b[0K\u001b[1G104.8 MiB [] 99% 0.0s\u001b[0K\u001b[1G104.8 MiB [] 100% 0.0s\u001b[0K\n",
            "Chromium Headless Shell 139.0.7258.5 (playwright build v1181) downloaded to /root/.cache/ms-playwright/chromium_headless_shell-1181\n",
            "Downloading Firefox 140.0.2 (playwright build v1489)\u001b[2m from https://cdn.playwright.dev/dbazure/download/playwright/builds/firefox/1489/firefox-ubuntu-22.04.zip\u001b[22m\n",
            "\u001b[1G92.5 MiB [] 0% 0.0s\u001b[0K\u001b[1G92.5 MiB [] 0% 16.9s\u001b[0K\u001b[1G92.5 MiB [] 0% 6.7s\u001b[0K\u001b[1G92.5 MiB [] 1% 2.5s\u001b[0K\u001b[1G92.5 MiB [] 3% 1.7s\u001b[0K\u001b[1G92.5 MiB [] 5% 1.3s\u001b[0K\u001b[1G92.5 MiB [] 8% 1.1s\u001b[0K\u001b[1G92.5 MiB [] 10% 1.0s\u001b[0K\u001b[1G92.5 MiB [] 10% 1.1s\u001b[0K\u001b[1G92.5 MiB [] 12% 1.0s\u001b[0K\u001b[1G92.5 MiB [] 15% 0.9s\u001b[0K\u001b[1G92.5 MiB [] 17% 0.9s\u001b[0K\u001b[1G92.5 MiB [] 18% 0.9s\u001b[0K\u001b[1G92.5 MiB [] 21% 0.8s\u001b[0K\u001b[1G92.5 MiB [] 24% 0.7s\u001b[0K\u001b[1G92.5 MiB [] 25% 0.7s\u001b[0K\u001b[1G92.5 MiB [] 28% 0.7s\u001b[0K\u001b[1G92.5 MiB [] 31% 0.6s\u001b[0K\u001b[1G92.5 MiB [] 33% 0.6s\u001b[0K\u001b[1G92.5 MiB [] 36% 0.5s\u001b[0K\u001b[1G92.5 MiB [] 38% 0.5s\u001b[0K\u001b[1G92.5 MiB [] 41% 0.5s\u001b[0K\u001b[1G92.5 MiB [] 44% 0.5s\u001b[0K\u001b[1G92.5 MiB [] 47% 0.4s\u001b[0K\u001b[1G92.5 MiB [] 49% 0.4s\u001b[0K\u001b[1G92.5 MiB [] 50% 0.4s\u001b[0K\u001b[1G92.5 MiB [] 54% 0.4s\u001b[0K\u001b[1G92.5 MiB [] 56% 0.3s\u001b[0K\u001b[1G92.5 MiB [] 58% 0.3s\u001b[0K\u001b[1G92.5 MiB [] 60% 0.3s\u001b[0K\u001b[1G92.5 MiB [] 62% 0.3s\u001b[0K\u001b[1G92.5 MiB [] 65% 0.3s\u001b[0K\u001b[1G92.5 MiB [] 67% 0.3s\u001b[0K\u001b[1G92.5 MiB [] 70% 0.2s\u001b[0K\u001b[1G92.5 MiB [] 73% 0.2s\u001b[0K\u001b[1G92.5 MiB [] 76% 0.2s\u001b[0K\u001b[1G92.5 MiB [] 78% 0.2s\u001b[0K\u001b[1G92.5 MiB [] 81% 0.1s\u001b[0K\u001b[1G92.5 MiB [] 84% 0.1s\u001b[0K\u001b[1G92.5 MiB [] 87% 0.1s\u001b[0K\u001b[1G92.5 MiB [] 89% 0.1s\u001b[0K\u001b[1G92.5 MiB [] 93% 0.0s\u001b[0K\u001b[1G92.5 MiB [] 96% 0.0s\u001b[0K\u001b[1G92.5 MiB [] 98% 0.0s\u001b[0K\u001b[1G92.5 MiB [] 100% 0.0s\u001b[0K\n",
            "Firefox 140.0.2 (playwright build v1489) downloaded to /root/.cache/ms-playwright/firefox-1489\n",
            "Downloading Webkit 26.0 (playwright build v2191)\u001b[2m from https://cdn.playwright.dev/dbazure/download/playwright/builds/webkit/2191/webkit-ubuntu-22.04.zip\u001b[22m\n",
            "\u001b[1G94.4 MiB [] 0% 0.0s\u001b[0K\u001b[1G94.4 MiB [] 0% 12.4s\u001b[0K\u001b[1G94.4 MiB [] 0% 6.1s\u001b[0K\u001b[1G94.4 MiB [] 1% 3.0s\u001b[0K\u001b[1G94.4 MiB [] 2% 2.1s\u001b[0K\u001b[1G94.4 MiB [] 4% 1.8s\u001b[0K\u001b[1G94.4 MiB [] 5% 1.6s\u001b[0K\u001b[1G94.4 MiB [] 6% 1.5s\u001b[0K\u001b[1G94.4 MiB [] 8% 1.5s\u001b[0K\u001b[1G94.4 MiB [] 9% 1.4s\u001b[0K\u001b[1G94.4 MiB [] 10% 1.5s\u001b[0K\u001b[1G94.4 MiB [] 11% 1.5s\u001b[0K\u001b[1G94.4 MiB [] 13% 1.4s\u001b[0K\u001b[1G94.4 MiB [] 14% 1.4s\u001b[0K\u001b[1G94.4 MiB [] 16% 1.3s\u001b[0K\u001b[1G94.4 MiB [] 17% 1.4s\u001b[0K\u001b[1G94.4 MiB [] 18% 1.3s\u001b[0K\u001b[1G94.4 MiB [] 20% 1.2s\u001b[0K\u001b[1G94.4 MiB [] 22% 1.2s\u001b[0K\u001b[1G94.4 MiB [] 23% 1.2s\u001b[0K\u001b[1G94.4 MiB [] 25% 1.1s\u001b[0K\u001b[1G94.4 MiB [] 26% 1.1s\u001b[0K\u001b[1G94.4 MiB [] 28% 1.0s\u001b[0K\u001b[1G94.4 MiB [] 30% 1.0s\u001b[0K\u001b[1G94.4 MiB [] 32% 0.9s\u001b[0K\u001b[1G94.4 MiB [] 33% 0.9s\u001b[0K\u001b[1G94.4 MiB [] 35% 0.8s\u001b[0K\u001b[1G94.4 MiB [] 37% 0.8s\u001b[0K\u001b[1G94.4 MiB [] 38% 0.8s\u001b[0K\u001b[1G94.4 MiB [] 40% 0.8s\u001b[0K\u001b[1G94.4 MiB [] 42% 0.7s\u001b[0K\u001b[1G94.4 MiB [] 44% 0.7s\u001b[0K\u001b[1G94.4 MiB [] 46% 0.7s\u001b[0K\u001b[1G94.4 MiB [] 48% 0.6s\u001b[0K\u001b[1G94.4 MiB [] 48% 0.7s\u001b[0K\u001b[1G94.4 MiB [] 50% 0.6s\u001b[0K\u001b[1G94.4 MiB [] 52% 0.6s\u001b[0K\u001b[1G94.4 MiB [] 54% 0.5s\u001b[0K\u001b[1G94.4 MiB [] 57% 0.5s\u001b[0K\u001b[1G94.4 MiB [] 59% 0.5s\u001b[0K\u001b[1G94.4 MiB [] 61% 0.4s\u001b[0K\u001b[1G94.4 MiB [] 63% 0.4s\u001b[0K\u001b[1G94.4 MiB [] 65% 0.4s\u001b[0K\u001b[1G94.4 MiB [] 67% 0.4s\u001b[0K\u001b[1G94.4 MiB [] 69% 0.3s\u001b[0K\u001b[1G94.4 MiB [] 71% 0.3s\u001b[0K\u001b[1G94.4 MiB [] 72% 0.3s\u001b[0K\u001b[1G94.4 MiB [] 75% 0.3s\u001b[0K\u001b[1G94.4 MiB [] 77% 0.2s\u001b[0K\u001b[1G94.4 MiB [] 79% 0.2s\u001b[0K\u001b[1G94.4 MiB [] 82% 0.2s\u001b[0K\u001b[1G94.4 MiB [] 84% 0.2s\u001b[0K\u001b[1G94.4 MiB [] 86% 0.1s\u001b[0K\u001b[1G94.4 MiB [] 89% 0.1s\u001b[0K\u001b[1G94.4 MiB [] 91% 0.1s\u001b[0K\u001b[1G94.4 MiB [] 93% 0.1s\u001b[0K\u001b[1G94.4 MiB [] 96% 0.0s\u001b[0K\u001b[1G94.4 MiB [] 99% 0.0s\u001b[0K\u001b[1G94.4 MiB [] 100% 0.0s\u001b[0K\n",
            "Webkit 26.0 (playwright build v2191) downloaded to /root/.cache/ms-playwright/webkit-2191\n",
            "Downloading FFMPEG playwright build v1011\u001b[2m from https://cdn.playwright.dev/dbazure/download/playwright/builds/ffmpeg/1011/ffmpeg-linux.zip\u001b[22m\n",
            "\u001b[1G2.3 MiB [] 0% 0.0s\u001b[0K\u001b[1G2.3 MiB [] 6% 0.3s\u001b[0K\u001b[1G2.3 MiB [] 30% 0.1s\u001b[0K\u001b[1G2.3 MiB [] 76% 0.0s\u001b[0K\u001b[1G2.3 MiB [] 100% 0.0s\u001b[0K\n",
            "FFMPEG playwright build v1011 downloaded to /root/.cache/ms-playwright/ffmpeg-1011\n",
            "Playwright Host validation warning: \n",
            "╔══════════════════════════════════════════════════════╗\n",
            "║ Host system is missing dependencies to run browsers. ║\n",
            "║ Missing libraries:                                   ║\n",
            "║     libwoff2dec.so.1.0.2                             ║\n",
            "║     libgstgl-1.0.so.0                                ║\n",
            "║     libgstcodecparsers-1.0.so.0                      ║\n",
            "║     libavif.so.13                                    ║\n",
            "║     libharfbuzz-icu.so.0                             ║\n",
            "║     libenchant-2.so.2                                ║\n",
            "║     libsecret-1.so.0                                 ║\n",
            "║     libhyphen.so.0                                   ║\n",
            "║     libmanette-0.2.so.0                              ║\n",
            "╚══════════════════════════════════════════════════════╝\n",
            "    at validateDependenciesLinux (/usr/local/lib/python3.11/dist-packages/playwright/driver/package/lib/server/registry/dependencies.js:269:9)\n",
            "\u001b[90m    at process.processTicksAndRejections (node:internal/process/task_queues:105:5)\u001b[39m\n",
            "    at async Registry._validateHostRequirements (/usr/local/lib/python3.11/dist-packages/playwright/driver/package/lib/server/registry/index.js:914:14)\n",
            "    at async Registry._validateHostRequirementsForExecutableIfNeeded (/usr/local/lib/python3.11/dist-packages/playwright/driver/package/lib/server/registry/index.js:1036:7)\n",
            "    at async Registry.validateHostRequirementsForExecutablesIfNeeded (/usr/local/lib/python3.11/dist-packages/playwright/driver/package/lib/server/registry/index.js:1025:7)\n",
            "    at async i.<anonymous> (/usr/local/lib/python3.11/dist-packages/playwright/driver/package/lib/cli/program.js:222:7)\n"
          ]
        }
      ]
    },
    {
      "cell_type": "code",
      "execution_count": null,
      "metadata": {
        "id": "y6LBGIVB0_6P"
      },
      "outputs": [],
      "source": [
        "from crawl4ai import AsyncWebCrawler"
      ]
    },
    {
      "cell_type": "code",
      "source": [
        "#create an instance of crawler\n",
        "crawler = AsyncWebCrawler()"
      ],
      "metadata": {
        "id": "JWAtOeoqFiV9"
      },
      "execution_count": null,
      "outputs": []
    },
    {
      "cell_type": "code",
      "execution_count": null,
      "metadata": {
        "colab": {
          "base_uri": "https://localhost:8080/",
          "height": 1000
        },
        "id": "AAfSRG6o1CPv",
        "outputId": "73b060f8-cb9f-4095-f413-bb9cae250ada"
      },
      "outputs": [
        {
          "output_type": "display_data",
          "data": {
            "text/plain": [
              "\u001b[1;32m[\u001b[0m\u001b[32mFETCH\u001b[0m\u001b[1;32m]\u001b[0m\u001b[32m...\u001b[0m\u001b[32m ↓ \u001b[0m\u001b[4;32mhttps://unstop.com/competitions/tvs-credit-epic-...lenge-epic-season-7-tvs-credit-1510669?\u001b[0m\u001b[4;32mrstatus\u001b[0m\u001b[4;32m=\u001b[0m\u001b[4;32m1\u001b[0m\u001b[32m  |\u001b[0m\n",
              "\u001b[32m✓\u001b[0m\u001b[32m | ⏱: \u001b[0m\u001b[1;32m3.\u001b[0m\u001b[32m46s \u001b[0m\n"
            ],
            "text/html": [
              "<pre style=\"white-space:pre;overflow-x:auto;line-height:normal;font-family:Menlo,'DejaVu Sans Mono',consolas,'Courier New',monospace\"><span style=\"color: #008000; text-decoration-color: #008000; font-weight: bold\">[</span><span style=\"color: #008000; text-decoration-color: #008000\">FETCH</span><span style=\"color: #008000; text-decoration-color: #008000; font-weight: bold\">]</span><span style=\"color: #008000; text-decoration-color: #008000\">... ↓ </span><span style=\"color: #008000; text-decoration-color: #008000; text-decoration: underline\">https://unstop.com/competitions/tvs-credit-epic-...lenge-epic-season-7-tvs-credit-1510669?rstatus=1</span><span style=\"color: #008000; text-decoration-color: #008000\">  |</span>\n",
              "<span style=\"color: #008000; text-decoration-color: #008000\">✓ | ⏱: </span><span style=\"color: #008000; text-decoration-color: #008000; font-weight: bold\">3.</span><span style=\"color: #008000; text-decoration-color: #008000\">46s </span>\n",
              "</pre>\n"
            ]
          },
          "metadata": {}
        },
        {
          "output_type": "display_data",
          "data": {
            "text/plain": [
              "\u001b[1;32m[\u001b[0m\u001b[32mSCRAPE\u001b[0m\u001b[1;32m]\u001b[0m\u001b[32m.. ◆ \u001b[0m\u001b[4;32mhttps://unstop.com/competitions/tvs-credit-epic-...lenge-epic-season-7-tvs-credit-1510669?\u001b[0m\u001b[4;32mrstatus\u001b[0m\u001b[4;32m=\u001b[0m\u001b[4;32m1\u001b[0m\u001b[32m  |\u001b[0m\n",
              "\u001b[32m✓\u001b[0m\u001b[32m | ⏱: \u001b[0m\u001b[1;32m0.\u001b[0m\u001b[32m08s \u001b[0m\n"
            ],
            "text/html": [
              "<pre style=\"white-space:pre;overflow-x:auto;line-height:normal;font-family:Menlo,'DejaVu Sans Mono',consolas,'Courier New',monospace\"><span style=\"color: #008000; text-decoration-color: #008000; font-weight: bold\">[</span><span style=\"color: #008000; text-decoration-color: #008000\">SCRAPE</span><span style=\"color: #008000; text-decoration-color: #008000; font-weight: bold\">]</span><span style=\"color: #008000; text-decoration-color: #008000\">.. ◆ </span><span style=\"color: #008000; text-decoration-color: #008000; text-decoration: underline\">https://unstop.com/competitions/tvs-credit-epic-...lenge-epic-season-7-tvs-credit-1510669?rstatus=1</span><span style=\"color: #008000; text-decoration-color: #008000\">  |</span>\n",
              "<span style=\"color: #008000; text-decoration-color: #008000\">✓ | ⏱: </span><span style=\"color: #008000; text-decoration-color: #008000; font-weight: bold\">0.</span><span style=\"color: #008000; text-decoration-color: #008000\">08s </span>\n",
              "</pre>\n"
            ]
          },
          "metadata": {}
        },
        {
          "output_type": "display_data",
          "data": {
            "text/plain": [
              "\u001b[1;32m[\u001b[0m\u001b[32mCOMPLETE\u001b[0m\u001b[1;32m]\u001b[0m\u001b[32m ● \u001b[0m\u001b[4;32mhttps://unstop.com/competitions/tvs-credit-epic-...lenge-epic-season-7-tvs-credit-1510669?\u001b[0m\u001b[4;32mrstatus\u001b[0m\u001b[4;32m=\u001b[0m\u001b[4;32m1\u001b[0m\u001b[32m  |\u001b[0m\n",
              "\u001b[32m✓\u001b[0m\u001b[32m | ⏱: \u001b[0m\u001b[1;32m3.\u001b[0m\u001b[32m55s \u001b[0m\n"
            ],
            "text/html": [
              "<pre style=\"white-space:pre;overflow-x:auto;line-height:normal;font-family:Menlo,'DejaVu Sans Mono',consolas,'Courier New',monospace\"><span style=\"color: #008000; text-decoration-color: #008000; font-weight: bold\">[</span><span style=\"color: #008000; text-decoration-color: #008000\">COMPLETE</span><span style=\"color: #008000; text-decoration-color: #008000; font-weight: bold\">]</span><span style=\"color: #008000; text-decoration-color: #008000\"> ● </span><span style=\"color: #008000; text-decoration-color: #008000; text-decoration: underline\">https://unstop.com/competitions/tvs-credit-epic-...lenge-epic-season-7-tvs-credit-1510669?rstatus=1</span><span style=\"color: #008000; text-decoration-color: #008000\">  |</span>\n",
              "<span style=\"color: #008000; text-decoration-color: #008000\">✓ | ⏱: </span><span style=\"color: #008000; text-decoration-color: #008000; font-weight: bold\">3.</span><span style=\"color: #008000; text-decoration-color: #008000\">55s </span>\n",
              "</pre>\n"
            ]
          },
          "metadata": {}
        },
        {
          "output_type": "stream",
          "name": "stdout",
          "text": [
            "![](https://d8it4huxumps7.cloudfront.net/uploads/images/unstop/svg/unstop-logo.svg)\n",
            "The website \"Unstop\" would like to send you awesome offers!\n",
            "Notifications can be turned off anytime from browser settings.\n",
            "Don't AllowAllow\n",
            "_show_chart_\n",
            "![Unstop white SVG logo](https://d8it4huxumps7.cloudfront.net/uploads/images/unstop/svg/unstop-logo-white.svg)\n",
            "Built with  favorite  in India for the world \n",
            "Stay Connected\n",
            "Sales Inquiries\n",
            "email  sales@unstop.com[ call  +91-9311777388 (Mon to Fri, 9 AM to 6 PM)](tel:9311777388)\n",
            "Support Inquiries\n",
            "email  support@unstop.com\n",
            "[![Instagram Icon](https://d8it4huxumps7.cloudfront.net/uploads/images/social-share/instagram-icon.svg)](https://www.instagram.com/unstop.world/ \"Follow on Instagram\")[![LinkedIn Icon](https://d8it4huxumps7.cloudfront.net/uploads/images/social-share/linkedin-icon.svg)](https://www.linkedin.com/company/unstop \"Follow on LinkedIn\")[![facebook Icon](https://d8it4huxumps7.cloudfront.net/uploads/images/social-share/facebook-icon.svg)](https://www.facebook.com/Unstop.world \"Follow on Facebook\")[![telegram Icon](https://d8it4huxumps7.cloudfront.net/uploads/images/social-share/telegram-icon.svg)](https://t.me/+ON15qceSy-IyZjY9 \"Follow on Telegram\")[![Discord Icon](https://d8it4huxumps7.cloudfront.net/uploads/images/social-share/discord-icon.svg)](https://discord.com/invite/DvYWXNr4yR \"Follow on Discord\")[![Twitter Icon](https://d8it4huxumps7.cloudfront.net/uploads/images/65b8ddae44fdd_twitter_logo.svg)](https://twitter.com/Unstop_World \"Follow on twitter\")[![YouTube Icon](https://d8it4huxumps7.cloudfront.net/uploads/images/social-share/youtube-icon.svg)](https://www.youtube.com/c/Unstop_World \"Follow on YouTube\")\n",
            "Stay Updated \n",
            "We'll send you updates on the latest opportunities to showcase your talent and get hired and rewarded regularly. \n",
            "[ Subscribe to our newsletter! _send_](https://unstop.com/about/newsletter)\n",
            "[Share Your Story Now ](https://unstop.com/blog/share-your-story-and-get-featured)[![Host Icon](https://cdn.unstop.com/uploads/images/unstop/menu_icons/host-icon.svg) Publish Opportunity ](https://unstop.com/organiser-panel/dashboard)\n",
            "Download Unstop App\n",
            "[![Unstop apk logo](https://d8it4huxumps7.cloudfront.net/uploads/images/unstop/google-play.svg)](https://play.google.com/store/apps/details?id=com.dare2compete.app)[![Unstop app logo](https://d8it4huxumps7.cloudfront.net/uploads/images/unstop/app-store.svg)](https://apps.apple.com/in/app/unstop-formerly-dare2compete/id1601170365)\n",
            "Best Viewed in Latest Versions of Edge, Mozilla, Chrome, Opera & Safari. **V: 8.1.2025.17.48**\n",
            "Copyright © 2025 [ FLIVE Consulting Pvt Ltd](https://unstop.com/) - All rights reserved.\n",
            "Products\n",
            "[ Brand & Engage ](https://unstop.com/employers/employer-branding)[ Source ](https://unstop.com/employers/source-candidates)[ Screen ](https://unstop.com/employers/screen-candidates-powered-by-AI)[ Assess ](https://unstop.com/employers/online-assessment-platform)[ Interview ](https://unstop.com/employers/virtual-interview-platform)[ Hiring Automation ](https://unstop.com/employers/hiring-automation-platform-applicant-tracking-system-ATS)\n",
            "Mentorship\n",
            "[Be a Mentor](https://unstop.com/mentor/become-mentor)[Explore Mentors](https://unstop.com/find-a-mentor)[Mentorship FAQs](https://unstop.com/mentor/faqs)[Mentorship Blogs](https://unstop.com/t/mentorship-22718)\n",
            "Participate\n",
            "[ Competitions & Challenges ](https://unstop.com/competitions)[Assessments](https://unstop.com/quiz)[Hackathons](https://unstop.com/hackathons)[ Workshops & Webinars ](https://unstop.com/workshops)[Conferences](https://unstop.com/conferences)[Cultural Events](https://unstop.com/events)[ College Festivals ](https://unstop.com/college-fests)\n",
            "Apply\n",
            "[Internships](https://unstop.com/internships)[Jobs](https://unstop.com/jobs)[Scholarships](https://unstop.com/scholarships)\n",
            "Learn\n",
            "[ Courses ](https://unstop.com/courses)[ Articles ](https://unstop.com/blog)[ Blog Series ](https://unstop.com/blog-series)[ Workshops ](https://unstop.com/workshops)\n",
            "Practice\n",
            "[ 5 Days Interview Prep](https://unstop.com/college-fests/5dayinterviewprep-unstop-254952)[ Code & Ace Hiring   \n",
            "Assessments ](https://unstop.com/practice/coding)[ 100-Day of Coding   \n",
            "Sprint ](https://unstop.com/practice/100-days-of-code)\n",
            "Our Properties\n",
            "[ Unstop Talent Awards 2025 ](https://unstop.com/awards/2025)[ Unstop Talent Meet 2025 ](https://unstop.com/unstop-talent-meet-2025)[ Unstop Talent Report 2025 ](https://unstop.com/talent-report-2025)[ Education Loan  \n",
            "EMI Calculator ](https://unstop.com/tools/education-loan-emi-calculator)[ Unstop Igniters Club ](https://unstop.com/unstop-igniters-club)[ Online Quizzing Festival ](https://unstop.com/online-quizzing-festival)\n",
            "[About Us](https://unstop.com/about)[Contact Us](https://unstop.com/employers/contact-us)[ Careers We're hiring](https://unstop.com/about/unstop-careers)\n",
            "[Life at Unstop](https://unstop.com/about/life-at-unstop)[Clientele](https://unstop.com/employers/clients)[Partner With Us](https://unstop.com/our-partners/become-a-partner)\n",
            "[Partners](https://unstop.com/our-partners)[FAQs](https://unstop.com/faq)[Branding Guidelines](https://unstop.com/our-partners/branding-guidelines)\n",
            "[Testimonials](https://unstop.com/employers/testimonials)[ Unstop Rewards Program ](https://unstop.com/unstop-rewards-program)\n",
            "[ Unstop on Shark Tank ](https://unstop.com/unstoppitchsharktank)[ Case Studies ](https://unstop.com/employers/case-studies)[ Refer & Earn ](https://unstop.com/refer-and-earn)\n",
            "[ Unstop Campus Ambassador Program ](https://unstop.com/campus-ambassador-program)\n",
            "[Terms & Conditions](https://unstop.com/legal/terms-of-use)[Privacy Policy](https://unstop.com/legal/privacy-policy)[ Sitemap ](https://unstop.com/directory/competitions/a/1)\n",
            "Request a Feature\n",
            "![100% safe & seure payment, secure, razoray Icon](https://d8it4huxumps7.cloudfront.net/uploads/images/d2c-icons/d2c-payments-icon.svg)![Visa, UPI, Mastercard, RuPay Icon](https://d8it4huxumps7.cloudfront.net/uploads/images/d2c-icons/payments-icon.svg)\n",
            "![GDPR](https://d8it4huxumps7.cloudfront.net/uploads/images/unstop/gdpr-logo.png?d=300x300)![ISO 27001](https://d8it4huxumps7.cloudfront.net/uploads/images/6231c2a5bdf94_iso_27001.svg)![ISO 9001](https://d8it4huxumps7.cloudfront.net/uploads/images/6231c2c0b51ff_iso_9001.svg)\n",
            "\n"
          ]
        }
      ],
      "source": [
        "import asyncio\n",
        "\n",
        "# url = \"https://www.nbcnews.com/business\"\n",
        "url =\"https://unstop.com/competitions/tvs-credit-epic-70-analytics-challenge-epic-season-7-tvs-credit-1510669?rstatus=1\"\n",
        "result = await crawler.arun(url)\n",
        "\n",
        "print(result.markdown)"
      ]
    },
    {
      "cell_type": "code",
      "source": [],
      "metadata": {
        "id": "UXrC5Cl9a50h"
      },
      "execution_count": null,
      "outputs": []
    },
    {
      "cell_type": "code",
      "source": [
        "\n",
        "# Install Crawl4AI\n",
        "!pip install crawl4ai\n",
        "\n",
        "# Run the setup to make sure the necessary browser components are installed\n",
        "!crawl4ai-setup\n",
        "\n",
        "import asyncio\n",
        "from crawl4ai import AsyncWebCrawler\n",
        "\n",
        "async def main():\n",
        "    # The URL we want to crawl\n",
        "    url = \"https://webscraper.io/test-sites/e-commerce/allinone/phones/touch\"\n",
        "\n",
        "    print(f\"Crawling {url} to get clean Markdown...\")\n",
        "\n",
        "    # Initialize the crawler\n",
        "    # The 'async with' statement handles starting and stopping the browser.\n",
        "    async with AsyncWebCrawler() as crawler:\n",
        "        # The arun() method crawls the URL and processes it.\n",
        "        result = await crawler.arun(url=url)\n",
        "\n",
        "        # Crawl4AI automatically cleans the HTML and provides it as Markdown.\n",
        "        # This is incredibly useful for AI applications.\n",
        "        if result and result.markdown:\n",
        "            print(\"\\n--- Clean Markdown Output (from Crawl4AI) ---\\n\")\n",
        "            print(result.markdown.raw_markdown)\n",
        "            print(f\"\\nWord count: {result.word_count}\") # Corrected line\n",
        "        else:\n",
        "            print(\"Failed to crawl the website.\")\n",
        "\n",
        "# Run the asynchronous function\n",
        "# In a Colab notebook, you can run an async function directly.\n",
        "await main()"
      ],
      "metadata": {
        "id": "NYo2UzICAa2V"
      },
      "execution_count": null,
      "outputs": []
    },
    {
      "cell_type": "code",
      "source": [
        "\n"
      ],
      "metadata": {
        "id": "l5w-uCgXa6x9"
      },
      "execution_count": null,
      "outputs": []
    }
  ],
  "metadata": {
    "colab": {
      "provenance": [],
      "gpuType": "T4",
      "include_colab_link": true
    },
    "kernelspec": {
      "display_name": "Python 3",
      "name": "python3"
    },
    "language_info": {
      "name": "python"
    },
    "accelerator": "GPU"
  },
  "nbformat": 4,
  "nbformat_minor": 0
}